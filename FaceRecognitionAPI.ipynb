{
  "nbformat": 4,
  "nbformat_minor": 0,
  "metadata": {
    "colab": {
      "name": "FaceRecognitionAPI.ipynb",
      "provenance": [],
      "collapsed_sections": [],
      "toc_visible": true,
      "mount_file_id": "1xbbv73s31UE_5mUNAxiQdPKHld-7l50t",
      "authorship_tag": "ABX9TyMhJ89qluiAVF373Ut4BLYz",
      "include_colab_link": true
    },
    "kernelspec": {
      "name": "python3",
      "display_name": "Python 3"
    },
    "accelerator": "GPU"
  },
  "cells": [
    {
      "cell_type": "markdown",
      "metadata": {
        "id": "view-in-github",
        "colab_type": "text"
      },
      "source": [
        "<a href=\"https://colab.research.google.com/github/Anshulnagar00/Face-Recognition-API/blob/master/FaceRecognitionAPI.ipynb\" target=\"_parent\"><img src=\"https://colab.research.google.com/assets/colab-badge.svg\" alt=\"Open In Colab\"/></a>"
      ]
    },
    {
      "cell_type": "markdown",
      "metadata": {
        "id": "qJGIufgbU-yc",
        "colab_type": "text"
      },
      "source": [
        "# Necessary Installs & Imports\n",
        "> face_recognition requires GPU Support"
      ]
    },
    {
      "cell_type": "code",
      "metadata": {
        "id": "i-3loPXiU3i-",
        "colab_type": "code",
        "outputId": "89688247-90ec-4beb-cea1-26f7c61d8e8f",
        "colab": {
          "base_uri": "https://localhost:8080/",
          "height": 623
        }
      },
      "source": [
        "!pip install dlib face_recognition mtcnn gevent"
      ],
      "execution_count": 1,
      "outputs": [
        {
          "output_type": "stream",
          "text": [
            "Requirement already satisfied: dlib in /usr/local/lib/python3.6/dist-packages (19.18.0)\n",
            "Collecting face_recognition\n",
            "  Downloading https://files.pythonhosted.org/packages/1e/95/f6c9330f54ab07bfa032bf3715c12455a381083125d8880c43cbe76bb3d0/face_recognition-1.3.0-py2.py3-none-any.whl\n",
            "Collecting mtcnn\n",
            "\u001b[?25l  Downloading https://files.pythonhosted.org/packages/67/43/abee91792797c609c1bf30f1112117f7a87a713ebaa6ec5201d5555a73ef/mtcnn-0.1.0-py3-none-any.whl (2.3MB)\n",
            "\u001b[K     |████████████████████████████████| 2.3MB 7.3MB/s \n",
            "\u001b[?25hCollecting gevent\n",
            "\u001b[?25l  Downloading https://files.pythonhosted.org/packages/9e/bd/04c4036f46f0272c804fce2c8308e06f8fb5db3b5c3adf97f8765bfa502c/gevent-20.5.0-cp36-cp36m-manylinux2010_x86_64.whl (5.2MB)\n",
            "\u001b[K     |████████████████████████████████| 5.2MB 58.3MB/s \n",
            "\u001b[?25hRequirement already satisfied: Pillow in /usr/local/lib/python3.6/dist-packages (from face_recognition) (7.0.0)\n",
            "Requirement already satisfied: numpy in /usr/local/lib/python3.6/dist-packages (from face_recognition) (1.18.4)\n",
            "Requirement already satisfied: Click>=6.0 in /usr/local/lib/python3.6/dist-packages (from face_recognition) (7.1.2)\n",
            "Collecting face-recognition-models>=0.3.0\n",
            "\u001b[?25l  Downloading https://files.pythonhosted.org/packages/cf/3b/4fd8c534f6c0d1b80ce0973d01331525538045084c73c153ee6df20224cf/face_recognition_models-0.3.0.tar.gz (100.1MB)\n",
            "\u001b[K     |████████████████████████████████| 100.2MB 30kB/s \n",
            "\u001b[?25hRequirement already satisfied: opencv-python>=4.1.0 in /usr/local/lib/python3.6/dist-packages (from mtcnn) (4.1.2.30)\n",
            "Requirement already satisfied: keras>=2.0.0 in /usr/local/lib/python3.6/dist-packages (from mtcnn) (2.3.1)\n",
            "Collecting greenlet>=0.4.14; platform_python_implementation == \"CPython\"\n",
            "\u001b[?25l  Downloading https://files.pythonhosted.org/packages/bf/45/142141aa47e01a5779f0fa5a53b81f8379ce8f2b1cd13df7d2f1d751ae42/greenlet-0.4.15-cp36-cp36m-manylinux1_x86_64.whl (41kB)\n",
            "\u001b[K     |████████████████████████████████| 51kB 8.7MB/s \n",
            "\u001b[?25hRequirement already satisfied: pyyaml in /usr/local/lib/python3.6/dist-packages (from keras>=2.0.0->mtcnn) (3.13)\n",
            "Requirement already satisfied: six>=1.9.0 in /usr/local/lib/python3.6/dist-packages (from keras>=2.0.0->mtcnn) (1.12.0)\n",
            "Requirement already satisfied: keras-preprocessing>=1.0.5 in /usr/local/lib/python3.6/dist-packages (from keras>=2.0.0->mtcnn) (1.1.0)\n",
            "Requirement already satisfied: h5py in /usr/local/lib/python3.6/dist-packages (from keras>=2.0.0->mtcnn) (2.10.0)\n",
            "Requirement already satisfied: keras-applications>=1.0.6 in /usr/local/lib/python3.6/dist-packages (from keras>=2.0.0->mtcnn) (1.0.8)\n",
            "Requirement already satisfied: scipy>=0.14 in /usr/local/lib/python3.6/dist-packages (from keras>=2.0.0->mtcnn) (1.4.1)\n",
            "Building wheels for collected packages: face-recognition-models\n",
            "  Building wheel for face-recognition-models (setup.py) ... \u001b[?25l\u001b[?25hdone\n",
            "  Created wheel for face-recognition-models: filename=face_recognition_models-0.3.0-py2.py3-none-any.whl size=100566172 sha256=20debda5716f7ec796f6e7817d8711f79e4719a9ea3eee601c6dc2e0496de881\n",
            "  Stored in directory: /root/.cache/pip/wheels/d2/99/18/59c6c8f01e39810415c0e63f5bede7d83dfb0ffc039865465f\n",
            "Successfully built face-recognition-models\n",
            "Installing collected packages: face-recognition-models, face-recognition, mtcnn, greenlet, gevent\n",
            "Successfully installed face-recognition-1.3.0 face-recognition-models-0.3.0 gevent-20.5.0 greenlet-0.4.15 mtcnn-0.1.0\n"
          ],
          "name": "stdout"
        }
      ]
    },
    {
      "cell_type": "code",
      "metadata": {
        "id": "gw1Q21ETVUtv",
        "colab_type": "code",
        "outputId": "72878481-aaa7-4477-b50c-28da36e026dd",
        "colab": {
          "base_uri": "https://localhost:8080/",
          "height": 34
        }
      },
      "source": [
        "from __future__ import division, print_function\n",
        "# coding=utf-8\n",
        "import sys\n",
        "import os\n",
        "import numpy as np\n",
        "\n",
        "# Flask utils\n",
        "from flask import Flask, redirect, url_for, request, render_template\n",
        "from werkzeug.utils import secure_filename\n",
        "\n",
        "# ngrok\n",
        "import atexit\n",
        "import json\n",
        "import platform\n",
        "import shutil\n",
        "import subprocess\n",
        "import tempfile\n",
        "import time\n",
        "import zipfile\n",
        "from pathlib import Path\n",
        "from threading import Timer\n",
        "import requests\n",
        "import urllib\n",
        "\n",
        "#later \n",
        "import cv2\n",
        "from gevent.pywsgi import WSGIServer\n",
        "\n",
        "# image 2 datauri\n",
        "\n",
        "from PIL import Image\n",
        "import io\n",
        "import base64\n",
        "\n",
        "# mtcnn classifier\n",
        "from numpy import asarray\n",
        "from mtcnn.mtcnn import MTCNN\n",
        "\n",
        "import time\n",
        "\n",
        "from imutils import paths\n",
        "import imutils\n",
        "import pickle\n",
        "import matplotlib.pyplot as plt\n",
        "import face_recognition\n",
        "from numpy import asarray\n"
      ],
      "execution_count": 2,
      "outputs": [
        {
          "output_type": "stream",
          "text": [
            "Using TensorFlow backend.\n"
          ],
          "name": "stderr"
        }
      ]
    },
    {
      "cell_type": "markdown",
      "metadata": {
        "id": "x4IscngjVrrN",
        "colab_type": "text"
      },
      "source": [
        "# ngrok - Setup"
      ]
    },
    {
      "cell_type": "code",
      "metadata": {
        "id": "4m5PJRChVni7",
        "colab_type": "code",
        "colab": {}
      },
      "source": [
        "def get_command():\n",
        "    system = platform.system()\n",
        "    if system == \"Darwin\":\n",
        "        command = \"ngrok\"\n",
        "    elif system == \"Windows\":\n",
        "        command = \"ngrok.exe\"\n",
        "    elif system == \"Linux\":\n",
        "        command = \"ngrok\"\n",
        "    else:\n",
        "        raise Exception(\"{system} is not supported\".format(system=system))\n",
        "    return command\n",
        "\n",
        "\n",
        "def run_ngrok(port):\n",
        "    command = get_command()\n",
        "    ngrok_path = str(Path(tempfile.gettempdir(), \"ngrok\"))\n",
        "    download_ngrok(ngrok_path)\n",
        "    executable = str(Path(ngrok_path, command))\n",
        "    os.chmod(executable, 0o777)\n",
        "    ngrok = subprocess.Popen([executable, 'http', str(port)])\n",
        "    atexit.register(ngrok.terminate)\n",
        "    localhost_url = \"http://localhost:4040/api/tunnels\"  # Url with tunnel details\n",
        "    time.sleep(1)\n",
        "    tunnel_url = requests.get(localhost_url).text  # Get the tunnel information\n",
        "    j = json.loads(tunnel_url)\n",
        "\n",
        "    tunnel_url = j['tunnels'][0]['public_url']  # Do the parsing of the get\n",
        "    tunnel_url = tunnel_url.replace(\"https\", \"http\")\n",
        "    return tunnel_url\n",
        "\n",
        "\n",
        "def download_ngrok(ngrok_path):\n",
        "    if Path(ngrok_path).exists():\n",
        "        return\n",
        "    system = platform.system()\n",
        "    if system == \"Darwin\":\n",
        "        url = \"https://bin.equinox.io/c/4VmDzA7iaHb/ngrok-stable-darwin-amd64.zip\"\n",
        "    elif system == \"Windows\":\n",
        "        url = \"https://bin.equinox.io/c/4VmDzA7iaHb/ngrok-stable-windows-amd64.zip\"\n",
        "    elif system == \"Linux\":\n",
        "        url = \"https://bin.equinox.io/c/4VmDzA7iaHb/ngrok-stable-linux-amd64.zip\"\n",
        "    else:\n",
        "        raise Exception(f\"{system} is not supported\")\n",
        "    download_path = download_file(url)\n",
        "    with zipfile.ZipFile(download_path, \"r\") as zip_ref:\n",
        "        zip_ref.extractall(ngrok_path)\n",
        "\n",
        "\n",
        "def download_file(url):\n",
        "    local_filename = url.split('/')[-1]\n",
        "    r = requests.get(url, stream=True)\n",
        "    download_path = str(Path(tempfile.gettempdir(), local_filename))\n",
        "    with open(download_path, 'wb') as f:\n",
        "        shutil.copyfileobj(r.raw, f)\n",
        "    return download_path\n",
        "\n",
        "\n",
        "def start_ngrok(port):\n",
        "    cv=True\n",
        "    ngrok_address = run_ngrok(port)\n",
        "    data=ngrok_address\n",
        "    if cv:\n",
        "      f=open(\"Logs.txt\",'w')\n",
        "      f.write(data)\n",
        "      f.close()\n",
        "      cv=False\n",
        "    print(f\" * Running on {ngrok_address}\")\n",
        "    print(f\" * Traffic stats available on http://127.0.0.1:4040\")\n",
        "    \n",
        "\n",
        "\n",
        "\n",
        "def run_with_ngrok(app):\n",
        "    \"\"\"\n",
        "    The provided Flask app will be securely exposed to the public internet via ngrok when run,\n",
        "    and the its ngrok address will be printed to stdout\n",
        "    :param app: a Flask application object\n",
        "    :return: None\n",
        "    \"\"\"\n",
        "    old_run = app.run\n",
        "\n",
        "    def new_run(*args, **kwargs):\n",
        "        port = kwargs.get('port', 5000)\n",
        "        thread = Timer(1, start_ngrok, args=(port,))\n",
        "        thread.setDaemon(True)\n",
        "        thread.start()\n",
        "        old_run(*args, **kwargs)\n",
        "    app.run = new_run"
      ],
      "execution_count": 0,
      "outputs": []
    },
    {
      "cell_type": "markdown",
      "metadata": {
        "id": "nqXo9a_JWHhs",
        "colab_type": "text"
      },
      "source": [
        "# Firebase - Setup"
      ]
    },
    {
      "cell_type": "code",
      "metadata": {
        "id": "6uv2lLqPWCKN",
        "colab_type": "code",
        "colab": {}
      },
      "source": [
        "import firebase_admin\n",
        "from firebase_admin import credentials\n",
        "from firebase_admin import db\n",
        "\n",
        "# Fetch the service account key JSON file contents\n",
        "cred = credentials.Certificate('drive/My Drive/FaceRecog/face-recognition-api-329bf-firebase-adminsdk-osjjv-a075fb4a6c.json')\n",
        "\n",
        "# Initialize the app with a service account, granting admin privileges\n",
        "firebase_admin.initialize_app(cred, {\n",
        "    'databaseURL': 'https://face-recognition-api-329bf.firebaseio.com/'\n",
        "})\n",
        "\n",
        "# As an admin, the app has access to read and write all data, regradless of Security Rules\n",
        "ref = db.reference('restricted_access/secret_document')"
      ],
      "execution_count": 0,
      "outputs": []
    },
    {
      "cell_type": "code",
      "metadata": {
        "id": "VUTT4IzMWEiQ",
        "colab_type": "code",
        "colab": {}
      },
      "source": [
        "def add_new_user(name,password):\n",
        "    names = list(db.reference('users').get().values())\n",
        "    if names.count(name) == 0:\n",
        "        users = db.reference('users')\n",
        "        users.push(name)\n",
        "        userdata = db.reference('userdata').child(name)\n",
        "        userdata.child(\"password\").set(password)\n",
        "        print(\"[INFO] User \"+name+\" added sucessfully\")\n",
        "        return (1,\"User added sucessfully\",name)\n",
        "    else:\n",
        "        print(\"[ERROR] Username already exist\")\n",
        "        return (0,\"Username already exist\",name)\n",
        "\n",
        "def verify_user(name,password):\n",
        "  names = list(db.reference('users').get().values())\n",
        "  if names.count(name) == 1:\n",
        "    if db.reference('userdata').child(name).child(\"password\").get() == password :\n",
        "      return 1\n",
        "    else :\n",
        "      return 0\n",
        "  else :\n",
        "    return 0\n",
        "\n",
        "def set_data(name,password,bytearraydata):\n",
        "  if verify_user(name,password) == 0 :\n",
        "    return 0\n",
        "  datab64 = base64.encodebytes(bytearraydata)\n",
        "  data = datab64.decode('utf-8')\n",
        "  db.reference('userdata').child(name).child(\"facedata\").set(data)\n",
        "  return 1\n",
        "\n",
        "def get_data(name,password):\n",
        "  if verify_user(name,password) == 0 :\n",
        "    return (0,\"Invalid username/password\",None)\n",
        "  bytestr = db.reference('userdata').child(name).child(\"facedata\").get()\n",
        "  if bytestr == None :\n",
        "    return (0,\"No faces added\",None)\n",
        "  response = urllib.request.urlopen(\"data:image/png;base64,\"+bytestr)\n",
        "  data = response.file.read()\n",
        "  return (1,\"Success\",data)\n"
      ],
      "execution_count": 0,
      "outputs": []
    },
    {
      "cell_type": "markdown",
      "metadata": {
        "id": "j8k_OfW-XesG",
        "colab_type": "text"
      },
      "source": [
        "# Application functions"
      ]
    },
    {
      "cell_type": "code",
      "metadata": {
        "id": "yvsv1aYUXjzr",
        "colab_type": "code",
        "colab": {}
      },
      "source": [
        "def add_face(name,image,username=\"GLOBAL\",password=\"GLOBAL\"):\n",
        "  '''\n",
        "  Face_Recognition_API by Anshul Nagar\n",
        "  \n",
        "  > Function : Register face from image having only one face \n",
        "  \n",
        "  > Input : \n",
        "\n",
        "  name - name of the person in image\n",
        "\n",
        "  img - image array in RGB color channel\n",
        "\n",
        "  username - (OPTIONAL) to save face data separated\n",
        "\n",
        "  password - (OPTIONAL) to save face data separated\n",
        "\n",
        "  > Returns : a tuple of following data `(Success_Code,Description,Result_Data)\n",
        "\n",
        "  Success_Code - 1 for Success 0 for Failure \n",
        "  \n",
        "  Description - Success or Failure Description\n",
        "\n",
        "  Result_Data - name of the person \n",
        "  \n",
        "  '''\n",
        "\n",
        "  # Face Detection using Mtcnn\n",
        "  detector = MTCNN()\n",
        "  facesd = len(detector.detect_faces(image))\n",
        "  if facesd != 1 :\n",
        "    print(\"[ERROR] No or Multiple Faces Detected\")\n",
        "    return (0,\"No or multiple faces detected\",facesd)\n",
        "\n",
        "  # create the detector, using default weights\n",
        "  # load the known faces and embeddings\n",
        "\n",
        "  # scanning uploaded image\n",
        "  \n",
        "  print(\"[INFO] Scanning face...\")\n",
        "  try :\n",
        "    results = scan_face(image,username,password)\n",
        "    res02 = results[2]\n",
        "    if len(res02) != 0 :\n",
        "      print(\"[ERROR] Face already registered as name \"+res02[0][1])\n",
        "      return (0,\"Face already registered\",res02[0][1])\n",
        "    data = results[3]\n",
        "  except :\n",
        "\n",
        "    data = {\"encodings\":[],\"names\":[]}\n",
        "  \n",
        "  rgb = image.copy()\n",
        "\t# detect the (x, y)-coordinates of the bounding boxes\n",
        "\t# corresponding to each face in the input image\n",
        "  boxes = face_recognition.face_locations(rgb,model=\"cnn\")\n",
        "  # compute the facial embedding for the face\n",
        "  encodings = face_recognition.face_encodings(rgb, boxes)\n",
        "  # loop over the encodings\n",
        "  knownEncodings = []\n",
        "  knownNames = []\n",
        "  for encoding in encodings:\n",
        "    # add each encoding + name to our set of known names and encodings\n",
        "    knownEncodings.append(encoding)\n",
        "    knownNames.append(name)\n",
        "  # dump the facial encodings + names to disk\n",
        "  print(\"[INFO] serializing encodings...\")\n",
        "  new = {\"encodings\": knownEncodings, \"names\": knownNames}\n",
        "  for i in range(len(new['names'])):\n",
        "    data['encodings'].append(new['encodings'][i])\n",
        "    data['names'].append(new['names'][i])\n",
        "  \n",
        "  set_data(username,password,pickle.dumps(data))\n",
        "  print(\"[INFO] Face of {} added Sucessfully\".format(name))\n",
        "  return (1,\"Face added sucessfully\",name)\n",
        "\n",
        "\n",
        "\n",
        "\n",
        "def delete(lst,indexes):\n",
        "  '''\n",
        "  Face_Recognition_API by Anshul Nagar\n",
        "\n",
        "  > Function : Returns deleted list  \n",
        "\n",
        "  > Input : \n",
        "\n",
        "  lst - list\n",
        "\n",
        "  indexes - list of index\n",
        "\n",
        "  > Output : list having elements with index which is not in indexes list\n",
        "\n",
        "  > Example : \n",
        "\n",
        "  >> ls = [2,4,6,3,8,2,4,6]\n",
        "\n",
        "  >> ls = delete(ls,[1,5,3])\n",
        "\n",
        "  >> print(ls)\n",
        "\n",
        "  >>> [2,6,8,4,6] \n",
        "  \n",
        "  '''\n",
        "  ls = lst.copy()\n",
        "  indexes.sort()\n",
        "  for i,v in enumerate(indexes):\n",
        "    ls.pop(v-i)\n",
        "  return ls\n",
        "\n",
        "\n",
        "def remove_face(name,username=\"GLOBAL\",password=\"GLOBAL\"):\n",
        "\n",
        "  '''\n",
        "  Face_Recognition_API by Anshul Nagar\n",
        "  \n",
        "  > Function : Removes all face-encodings associated with name\n",
        "\n",
        "  > Input : \n",
        "  \n",
        "  name - String (name of person)\n",
        "\n",
        "  username - (OPTIONAL) to save facedata separated\n",
        "\n",
        "  password - (OPTIONAL) to save facedata separated\n",
        "\n",
        "  > Returns : a tuple of following data `(Success_Code,Description,Result_Data)\n",
        "\n",
        "  Success_Code - 1 for Success 0 for Failure \n",
        "  \n",
        "  Description - Success or Failure Description\n",
        "  \n",
        "  Result_Data - name of person\n",
        "\n",
        "  '''\n",
        "  \n",
        "  print(\"[INFO] loading encodings...\")\n",
        "  try :\n",
        "    DATA = get_data(username,password)\n",
        "    if DATA[0] == 0 :\n",
        "      return (0,DATA[1],\"\")\n",
        "    data = pickle.loads(DATA[2])\n",
        "  except :\n",
        "    print(\"[ERROR] No Data !\")\n",
        "    return (0,\"No data !\",\"\")\n",
        "  idx = [i for i in range(len(data['names'])) if data['names'][i] == name]\n",
        "  if len(idx)==0:\n",
        "    print(\"[ERROR] No face detected having name {}\".format(name))\n",
        "    return (0,\"Face not found\",name)\n",
        "  print(\"[INFO] Removing {} ...\".format(name))\n",
        "  for i in range(len(data['names'])):\n",
        "      enc = delete(data['encodings'],indexes=idx)\n",
        "      nam = delete(data['names'],indexes=idx)\n",
        "  f_data = {\"encodings\":enc,\"names\":nam}\n",
        "  set_data(username,password,pickle.dumps(f_data))\n",
        "  print(\"[INFO] Done\")\n",
        "  return (1,\"Face removed sucessfully\",name)\n",
        "\n",
        "\n",
        "def scan_face(img,username=\"GLOBAL\",password=\"GLOBAL\"):\n",
        "\n",
        "  '''\n",
        "  Face_Recognition_API by Anshul Nagar\n",
        "  \n",
        "  > Function : Recognize faces in the input image\n",
        "  \n",
        "  > Input : \n",
        "  \n",
        "  img - image array in RGB color channel\n",
        "\n",
        "  username - (OPTIONAL) to save facedata separated\n",
        "\n",
        "  password - (OPTIONAL) to save facedata separated\n",
        "\n",
        "  > Returns : a tuple of following data `(Success_Code,Description,Result_Data,Encodings_Data)\n",
        "\n",
        "  Success_Code - 1 for Success 0 for Failure \n",
        "  \n",
        "  Description - Success or Failure Description\n",
        "  \n",
        "  Result_Data - \n",
        "  Array of Results in the Following format -\n",
        "  [((top, right, bottom, left), name),((top, right, bottom, left), name), ...... ,((top, right, bottom, left), name)]\n",
        "\n",
        "  Encodings_Data - Only Provided for use in other functions (not to be shared to user)\n",
        "\n",
        "  '''\n",
        "\n",
        "  result = []\n",
        "  rgb = img.copy()\n",
        "  # Face Detection using Mtcnn\n",
        "  detector = MTCNN()\n",
        "  if len(detector.detect_faces(img)) == 0 :\n",
        "    print(\"[ERROR] No Faces Detected !\")\n",
        "    return (0,\"No Faces Detected !\",[])\n",
        "  # load the known faces and embeddings\n",
        "  print(\"[INFO] loading encodings...\")\n",
        "  DATA = get_data(username,password)\n",
        "  if DATA[0] == 0 :\n",
        "    return (0,DATA[1],[])\n",
        "  data = pickle.loads(DATA[2])\n",
        "  # detect the (x, y)-coordinates of the bounding boxes corresponding\n",
        "  # to each face in the input image, then compute the facial embeddings\n",
        "  # for each face\n",
        "  print(\"[INFO] recognizing faces...\")\n",
        "  boxes = face_recognition.face_locations(rgb,model=\"cnn\")\n",
        "  encodings = face_recognition.face_encodings(rgb, boxes)\n",
        "  # initialize the list of names for each face detected\n",
        "  names = []\n",
        "  # loop over the facial embeddings\n",
        "  for encoding in encodings:\n",
        "    # attempt to match each face in the input image to our known\n",
        "    # encodings\n",
        "    matches = face_recognition.compare_faces(data[\"encodings\"],encoding)\n",
        "    name = \"Unknown\"\n",
        "    # check to see if we have found a match\n",
        "    if True in matches:\n",
        "      # find the indexes of all matched faces then initialize a\n",
        "      # dictionary to count the total number of times each face\n",
        "      # was matched\n",
        "      matchedIdxs = [i for (i, b) in enumerate(matches) if b]\n",
        "      counts = {}\n",
        "      # loop over the matched indexes and maintain a count for\n",
        "      # each recognized face face\n",
        "      for i in matchedIdxs:\n",
        "        name = data[\"names\"][i]\n",
        "        counts[name] = counts.get(name, 0) + 1\n",
        "      # determine the recognized face with the largest number of\n",
        "      # votes (note: in the event of an unlikely tie Python will\n",
        "      # select first entry in the dictionary)\n",
        "      name = max(counts, key=counts.get)\n",
        "      # update the list of names\n",
        "      names.append(name)\n",
        "      # loop over the recognized faces\n",
        "      for (b,n) in zip(boxes, names):\n",
        "        result.append((b,n))\n",
        "      print(\"[INFO] Done !\")\n",
        "  return (1,\"Success !\",result,data)\n",
        "\n",
        "def return_processed_image(img,result):\n",
        "  # loop over the recognized faces\n",
        "  for ((top, right, bottom, left), name) in result:\n",
        "\t  # draw the predicted face name on the image\n",
        "\t  cv2.rectangle(img, (left, top), (right, bottom), (0, 255, 0), 2)\n",
        "\t  y = top - 15 if top - 15 > 15 else top + 15\n",
        "\t  cv2.putText(img, name, (left, y), cv2.FONT_HERSHEY_SIMPLEX,\n",
        "\t\t  0.75, (0, 255, 0), 2)\n",
        "  # show the output image\n",
        "  fig,ax = plt.subplots(figsize=(12,12));\n",
        "  ax.imshow(img);\n"
      ],
      "execution_count": 0,
      "outputs": []
    },
    {
      "cell_type": "markdown",
      "metadata": {
        "id": "yg7SB71YacW1",
        "colab_type": "text"
      },
      "source": [
        "# Flask App -Setup\n",
        "1. /\n",
        "2. /add\n",
        "3. /add_user\n",
        "4. /remove\n",
        "5. /scan"
      ]
    },
    {
      "cell_type": "code",
      "metadata": {
        "id": "I8X048Nyaf4V",
        "colab_type": "code",
        "colab": {}
      },
      "source": [
        "# Define a flask app\n",
        "app = Flask(__name__)\n",
        "run_with_ngrok(app)\n",
        "\n",
        "def image_2_dataURI(image):\n",
        "  '''\n",
        "  Face_Recognition_API by Anshul Nagar\n",
        "  \n",
        "  Function : Converts numpy.ndarray image into base64 String\n",
        "  \n",
        "  Input : numpy.ndarray image\n",
        "\n",
        "  Returns : base64 String image\n",
        "  \n",
        "  '''\n",
        "  img = Image.fromarray(image,'RGB')\n",
        "  rawBytes = io.BytesIO()\n",
        "  img.save(rawBytes, \"PNG\")\n",
        "  rawBytes.seek(0)  # return to the start of the file\n",
        "  data = \"data:image/*;base64,\"+base64.b64encode(rawBytes.read()).decode(\"UTF-8\")\n",
        "  return data\n",
        "\n",
        "def dataURI_2_image(URIstr):\n",
        "  '''\n",
        "  Face_Recognition_API by Anshul Nagar\n",
        "  \n",
        "  Function : Converts base64 String image into numpy.ndarray image\n",
        "  \n",
        "  Input : base64 String image\n",
        "\n",
        "  Returns : numpy.ndarray image\n",
        "  \n",
        "  '''\n",
        "  response = urllib.request.urlopen(URIstr)\n",
        "  img = response.file.read()\n",
        "  nparr = np.fromstring(img, np.uint8);\n",
        "  img = cv2.imdecode(nparr,cv2.IMREAD_COLOR);\n",
        "  return img\n",
        "\n",
        "\n",
        "@app.route('/', methods=['GET'])\n",
        "def index():\n",
        "    return \"<h1>Face-Recognition-API by Anshul Nagar</h1><ol><li>/add  = name , image, username(OPTIONAL), password (OPTIONAL)</li><li>/remove  = name, username(OPTIONAL), password (OPTIONAL)</li><li>/scan  = image, username(OPTIONAL), password (OPTIONAL)</li><li>/add_user  =  username, password</li></ol>\"\n",
        "\n",
        "\n",
        "@app.route('/add', methods=['GET', 'POST'])\n",
        "def add_face_2_server():\n",
        "    if request.method == 'POST':\n",
        "        image = request.form['image']\n",
        "        name = request.form['name']\n",
        "        try : \n",
        "          username = request.form['username']\n",
        "          password = request.form['password']\n",
        "        except :\n",
        "          username = \"GLOBAL\"\n",
        "          password = \"GLOBAL\"\n",
        "        img = dataURI_2_image(image)\n",
        "        C01 = add_face(name,img,username,password)\n",
        "        return json.dumps({\"status\":C01[0],\"desc\":C01[1],\"data\":C01[2]})\n",
        "    return None\n",
        "\n",
        "@app.route('/remove', methods=['GET', 'POST'])\n",
        "def remove_face_on_server():\n",
        "    if request.method == 'POST':\n",
        "        # Get the file from post request\n",
        "        name = request.form['name']\n",
        "        try : \n",
        "          username = request.form['username']\n",
        "          password = request.form['password']\n",
        "        except :\n",
        "          username = \"GLOBAL\"\n",
        "          password = \"GLOBAL\"\n",
        "        C01 = remove_face(name,username,password)\n",
        "        return json.dumps({\"status\":C01[0],\"desc\":C01[1],\"data\":C01[2]})\n",
        "    return None\n",
        "\n",
        "\n",
        "@app.route('/scan', methods=['GET', 'POST'])\n",
        "def scan_face_on_server():\n",
        "    if request.method == 'POST':\n",
        "        image = request.form['image']\n",
        "        try : \n",
        "          username = request.form['username']\n",
        "          password = request.form['password']\n",
        "        except :\n",
        "          username = \"GLOBAL\"\n",
        "          password = \"GLOBAL\"\n",
        "        img = dataURI_2_image(image)\n",
        "        results = scan_face(img,username,password)\n",
        "        return json.dumps({\"status\":results[0],\"desc\":results[1],\"data\":results[2]})\n",
        "\n",
        "\n",
        "      \n",
        "\n",
        "@app.route('/add_user', methods=['GET', 'POST'])\n",
        "def add_user_2_server():\n",
        "    if request.method == 'POST':\n",
        "        # Get the file from post request\n",
        "        username = request.form['username']\n",
        "        password = request.form['password']\n",
        "        C01 = add_new_user(username,password)\n",
        "        return json.dumps({\"status\":C01[0],\"desc\":C01[1],\"data\":C01[2]})\n",
        "    return None\n",
        "\n"
      ],
      "execution_count": 0,
      "outputs": []
    },
    {
      "cell_type": "markdown",
      "metadata": {
        "id": "kS9Qz1KTb0f4",
        "colab_type": "text"
      },
      "source": [
        "# Run App"
      ]
    },
    {
      "cell_type": "code",
      "metadata": {
        "id": "ivqhr3Nxb7Ke",
        "colab_type": "code",
        "outputId": "ec6b650a-8842-4136-c020-f9f9888824b2",
        "colab": {
          "base_uri": "https://localhost:8080/",
          "height": 836
        }
      },
      "source": [
        "if __name__ == '__main__':\n",
        "    app.run(threaded=False)"
      ],
      "execution_count": 66,
      "outputs": [
        {
          "output_type": "stream",
          "text": [
            " * Serving Flask app \"__main__\" (lazy loading)\n",
            " * Environment: production\n",
            "\u001b[31m   WARNING: This is a development server. Do not use it in a production deployment.\u001b[0m\n",
            "\u001b[2m   Use a production WSGI server instead.\u001b[0m\n",
            " * Debug mode: off\n"
          ],
          "name": "stdout"
        },
        {
          "output_type": "stream",
          "text": [
            " * Running on http://127.0.0.1:5000/ (Press CTRL+C to quit)\n"
          ],
          "name": "stderr"
        },
        {
          "output_type": "stream",
          "text": [
            " * Running on http://9c36b7fc.ngrok.io\n",
            " * Traffic stats available on http://127.0.0.1:4040\n"
          ],
          "name": "stdout"
        },
        {
          "output_type": "stream",
          "text": [
            "127.0.0.1 - - [10/May/2020 12:19:53] \"\u001b[37mPOST /add_user HTTP/1.1\u001b[0m\" 200 -\n"
          ],
          "name": "stderr"
        },
        {
          "output_type": "stream",
          "text": [
            "[INFO] User anshulnagar00 added sucessfully\n"
          ],
          "name": "stdout"
        },
        {
          "output_type": "stream",
          "text": [
            "127.0.0.1 - - [10/May/2020 12:19:56] \"\u001b[37mPOST /add_user HTTP/1.1\u001b[0m\" 200 -\n"
          ],
          "name": "stderr"
        },
        {
          "output_type": "stream",
          "text": [
            "[ERROR] Username already exist\n"
          ],
          "name": "stdout"
        },
        {
          "output_type": "stream",
          "text": [
            "/usr/local/lib/python3.6/dist-packages/ipykernel_launcher.py:35: DeprecationWarning: The binary mode of fromstring is deprecated, as it behaves surprisingly on unicode inputs. Use frombuffer instead\n"
          ],
          "name": "stderr"
        },
        {
          "output_type": "stream",
          "text": [
            "[INFO] loading encodings...\n"
          ],
          "name": "stdout"
        },
        {
          "output_type": "stream",
          "text": [
            "127.0.0.1 - - [10/May/2020 12:20:04] \"\u001b[37mPOST /scan HTTP/1.1\u001b[0m\" 200 -\n"
          ],
          "name": "stderr"
        },
        {
          "output_type": "stream",
          "text": [
            "[INFO] loading encodings...\n"
          ],
          "name": "stdout"
        },
        {
          "output_type": "stream",
          "text": [
            "127.0.0.1 - - [10/May/2020 12:20:12] \"\u001b[37mPOST /scan HTTP/1.1\u001b[0m\" 200 -\n"
          ],
          "name": "stderr"
        },
        {
          "output_type": "stream",
          "text": [
            "[INFO] loading encodings...\n"
          ],
          "name": "stdout"
        },
        {
          "output_type": "stream",
          "text": [
            "127.0.0.1 - - [10/May/2020 12:20:16] \"\u001b[37mPOST /remove HTTP/1.1\u001b[0m\" 200 -\n"
          ],
          "name": "stderr"
        },
        {
          "output_type": "stream",
          "text": [
            "[INFO] Scanning face...\n",
            "[INFO] loading encodings...\n",
            "[INFO] serializing encodings...\n"
          ],
          "name": "stdout"
        },
        {
          "output_type": "stream",
          "text": [
            "127.0.0.1 - - [10/May/2020 12:20:37] \"\u001b[37mPOST /add HTTP/1.1\u001b[0m\" 200 -\n"
          ],
          "name": "stderr"
        },
        {
          "output_type": "stream",
          "text": [
            "[INFO] Face of Anna added Sucessfully\n",
            "[INFO] loading encodings...\n"
          ],
          "name": "stdout"
        },
        {
          "output_type": "stream",
          "text": [
            "127.0.0.1 - - [10/May/2020 12:20:45] \"\u001b[37mPOST /scan HTTP/1.1\u001b[0m\" 200 -\n"
          ],
          "name": "stderr"
        },
        {
          "output_type": "stream",
          "text": [
            "[INFO] recognizing faces...\n",
            "[INFO] Done !\n"
          ],
          "name": "stdout"
        },
        {
          "output_type": "stream",
          "text": [
            "127.0.0.1 - - [10/May/2020 12:21:13] \"\u001b[37mPOST /add_user HTTP/1.1\u001b[0m\" 200 -\n"
          ],
          "name": "stderr"
        },
        {
          "output_type": "stream",
          "text": [
            "[INFO] User nagaranshul9 added sucessfully\n",
            "[INFO] loading encodings...\n"
          ],
          "name": "stdout"
        },
        {
          "output_type": "stream",
          "text": [
            "127.0.0.1 - - [10/May/2020 12:21:23] \"\u001b[37mPOST /scan HTTP/1.1\u001b[0m\" 200 -\n"
          ],
          "name": "stderr"
        },
        {
          "output_type": "stream",
          "text": [
            "[INFO] loading encodings...\n"
          ],
          "name": "stdout"
        },
        {
          "output_type": "stream",
          "text": [
            "127.0.0.1 - - [10/May/2020 12:21:33] \"\u001b[37mPOST /remove HTTP/1.1\u001b[0m\" 200 -\n"
          ],
          "name": "stderr"
        },
        {
          "output_type": "stream",
          "text": [
            "[ERROR] No face detected having name Mia\n",
            "[INFO] loading encodings...\n",
            "[INFO] Removing Anna ...\n"
          ],
          "name": "stdout"
        },
        {
          "output_type": "stream",
          "text": [
            "127.0.0.1 - - [10/May/2020 12:21:45] \"\u001b[37mPOST /remove HTTP/1.1\u001b[0m\" 200 -\n"
          ],
          "name": "stderr"
        },
        {
          "output_type": "stream",
          "text": [
            "[INFO] Done\n",
            "[INFO] loading encodings...\n"
          ],
          "name": "stdout"
        },
        {
          "output_type": "stream",
          "text": [
            "127.0.0.1 - - [10/May/2020 12:22:18] \"\u001b[37mPOST /scan HTTP/1.1\u001b[0m\" 200 -\n"
          ],
          "name": "stderr"
        },
        {
          "output_type": "stream",
          "text": [
            "[INFO] recognizing faces...\n",
            "[INFO] loading encodings...\n"
          ],
          "name": "stdout"
        },
        {
          "output_type": "stream",
          "text": [
            "127.0.0.1 - - [10/May/2020 12:22:59] \"\u001b[37mPOST /remove HTTP/1.1\u001b[0m\" 200 -\n"
          ],
          "name": "stderr"
        },
        {
          "output_type": "stream",
          "text": [
            "[ERROR] No face detected having name Anna\n"
          ],
          "name": "stdout"
        }
      ]
    }
  ]
}